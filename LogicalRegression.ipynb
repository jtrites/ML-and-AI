{
  "nbformat": 4,
  "nbformat_minor": 0,
  "metadata": {
    "colab": {
      "provenance": []
    },
    "kernelspec": {
      "name": "python3",
      "display_name": "Python 3"
    },
    "language_info": {
      "name": "python"
    }
  },
  "cells": [
    {
      "cell_type": "code",
      "execution_count": null,
      "metadata": {
        "id": "Qty8sswk9yty"
      },
      "outputs": [],
      "source": []
    },
    {
      "cell_type": "markdown",
      "source": [
        "##Logical Regression\n",
        "- Is used to predict a data value based on prior observations of a dataset.\n",
        "- Finds relationship between qualitative discrete dependent variables and several independent variables\n",
        "- It's a machine learning ML method used in classification problems.\n",
        "- The simplest case is a binary classification\n",
        "# The algorithm answers a given question:\n",
        "- If the answer is positive, it belongs to a set of positive point class\n",
        "- If the answer is negative, it belongs to a set of negative point class\n",
        "- Many problems require a probability estimate as output.\n",
        "- This algorith is efficient in calculating probability\n",
        "- The main goal is to accurately predict the class of two possible label data points\n",
        "- A logistic regression model ensures that the output always falls between 0 and 1.\n",
        "# Sigmoid Function\n",
        "- The formula of a sigmoid function, shown below, is used.\n",
        "- Sigmoid function: $f(x) = \\frac{1}{1 + e^-x}$\n",
        "- To map probability predicted values, use the sigmoid function.\n",
        "- Sigmoid function maps any real value to the other value between 1 and 0.\n",
        "- Use the Sigmoid function to map prediction to probabilities.\n",
        "#Two types of Logistic Regression\n",
        "- Binary (e.g. 0 or 1)\n",
        "- Multinomial (e.g.0, 1, 2)\n",
        "#Decision Boundary\n",
        "- The probability score is between 0 and 1, based on the inputs provided.\n",
        "- Example: Consider two products, with one being eco-friendly and the other being toxic.\n",
        "- Threshold value to classify the given product\n",
        "#Applications of Logistic Regression\n",
        "1. Prediction of a cricket match outcome\n",
        "2. Assessment of presence or absence of fraud\n",
        "- Financial transactions based on banking activity\n",
        "3. Assessment of erosion of sea bed due to fishing activity\n",
        "4. Prediction of crash based on tidal energy and icebergs\n",
        "5. Prediction of bankruptcy using logistic regression\n",
        "\n",
        "\n"
      ],
      "metadata": {
        "id": "qAbzvCsP91Bu"
      }
    }
  ]
}