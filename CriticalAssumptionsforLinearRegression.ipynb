{
  "nbformat": 4,
  "nbformat_minor": 0,
  "metadata": {
    "colab": {
      "provenance": []
    },
    "kernelspec": {
      "name": "python3",
      "display_name": "Python 3"
    },
    "language_info": {
      "name": "python"
    }
  },
  "cells": [
    {
      "cell_type": "markdown",
      "source": [
        "##Critical Assumptions for Linear Regression\n",
        "- Regression is a parametric approach where one makes assumptions of data for analysis.\n",
        "- Successful regression analysis requires validation of the assumptions made.\n",
        "- The dependent or the response variable and the independent or the predictor variable have a linear and additive relationship\n",
        "- For a predictor variable X and a response variable Y\n",
        "- A Linear relationship implies that a change in response Y due to one unit change in X remains constant.\n",
        "1. In additive relationship, the effect of X on the response Y is independent of the other variables.\n",
        "2. Error terms are normally distributed.\n",
        "3. Independent variables are NOT correlated\n",
        "- Multicollinearity between independent variables does not exist.\n",
        "4. Error or residual terms are NOT correlated\n",
        "- If Autocorrelation is absent.\n",
        "5. The error terms have constant variance\n",
        "- i.e. they show homoscedasticity\n",
        "# Homoscedasticity\n",
        "- The presenceof non-constant variance is called heteroscedasticity\n"
      ],
      "metadata": {
        "id": "YvH1bPib5sWp"
      }
    },
    {
      "cell_type": "code",
      "execution_count": null,
      "metadata": {
        "id": "28Nl66FI5phL"
      },
      "outputs": [],
      "source": []
    }
  ]
}